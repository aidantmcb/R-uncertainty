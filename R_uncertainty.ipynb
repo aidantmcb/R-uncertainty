{
  "nbformat": 4,
  "nbformat_minor": 0,
  "metadata": {
    "colab": {
      "name": "R-uncertainty.ipynb",
      "version": "0.3.2",
      "provenance": [],
      "include_colab_link": true
    }
  },
  "cells": [
    {
      "cell_type": "markdown",
      "metadata": {
        "id": "view-in-github",
        "colab_type": "text"
      },
      "source": [
        "[View in Colaboratory](https://colab.research.google.com/github/krislars/R-uncertainty/blob/master/R_uncertainty.ipynb)"
      ]
    },
    {
      "metadata": {
        "id": "6-AWC7fMP96N",
        "colab_type": "code",
        "colab": {}
      },
      "cell_type": "code",
      "source": [
        ""
      ],
      "execution_count": 0,
      "outputs": []
    },
    {
      "metadata": {
        "id": "58ojjbkxQLer",
        "colab_type": "text"
      },
      "cell_type": "markdown",
      "source": [
        "# Introduction"
      ]
    },
    {
      "metadata": {
        "id": "lkaFXDpKQ4dv",
        "colab_type": "text"
      },
      "cell_type": "markdown",
      "source": [
        "Kristen: Introduction to the dust extinction law"
      ]
    },
    {
      "metadata": {
        "id": "AuzGOe-LQSC8",
        "colab_type": "text"
      },
      "cell_type": "markdown",
      "source": [
        "# Normal Distribution for Comparison"
      ]
    },
    {
      "metadata": {
        "id": "h-xrIrjzRclB",
        "colab_type": "text"
      },
      "cell_type": "markdown",
      "source": [
        "Sam: P326-style propagation"
      ]
    },
    {
      "metadata": {
        "id": "HBQnI20dQVUA",
        "colab_type": "text"
      },
      "cell_type": "markdown",
      "source": [
        "# Photometric Uncertainty"
      ]
    },
    {
      "metadata": {
        "id": "zsuFqkKBQ8Ow",
        "colab_type": "text"
      },
      "cell_type": "markdown",
      "source": [
        "Aidan: Uncertainty introduced by background SED\n",
        "\n",
        "Sam: Measurement uncertainty"
      ]
    },
    {
      "metadata": {
        "id": "S0hIxvtDQfrC",
        "colab_type": "text"
      },
      "cell_type": "markdown",
      "source": [
        "# Spectral Type Uncertainty"
      ]
    },
    {
      "metadata": {
        "id": "XzeNKg_kRu59",
        "colab_type": "text"
      },
      "cell_type": "markdown",
      "source": [
        "Sam: Uncertainty in intrinsic colors\n",
        "\n",
        "Megan: Uncertainty in assumed spectral type"
      ]
    },
    {
      "metadata": {
        "id": "FQurD4T1Qkxv",
        "colab_type": "text"
      },
      "cell_type": "markdown",
      "source": [
        "# Putting It All Together"
      ]
    },
    {
      "metadata": {
        "id": "N35JO60mSs5D",
        "colab_type": "text"
      },
      "cell_type": "markdown",
      "source": [
        "TBA (to be assigned):  Uncertainty when simultaneously fitting star and dust"
      ]
    }
  ]
}