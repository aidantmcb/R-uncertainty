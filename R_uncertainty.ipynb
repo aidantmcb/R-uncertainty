{
  "nbformat": 4,
  "nbformat_minor": 0,
  "metadata": {
    "colab": {
      "name": "R-uncertainty.ipynb",
      "version": "0.3.2",
      "provenance": [],
      "include_colab_link": true
    }
  },
  "cells": [
    {
      "cell_type": "markdown",
      "metadata": {
        "id": "view-in-github",
        "colab_type": "text"
      },
      "source": [
        "[View in Colaboratory](https://colab.research.google.com/github/krislars/R-uncertainty/blob/master/R_uncertainty.ipynb)"
      ]
    },
    {
      "metadata": {
        "id": "6-AWC7fMP96N",
        "colab_type": "code",
        "colab": {}
      },
      "cell_type": "code",
      "source": [
        "# For running in Google Colaboratory:\n",
        "!pip install astropy\n",
        "!pip install dust_extinction\n",
        "!pip install synphot"
      ],
      "execution_count": 0,
      "outputs": []
    },
    {
      "metadata": {
        "id": "HeXfZVkFB9mD",
        "colab_type": "code",
        "colab": {}
      },
      "cell_type": "code",
      "source": [
        "import matplotlib.pyplot as plt\n",
        "%matplotlib inline\n",
        "import numpy as np\n",
        "import astropy.units as u\n",
        "from astropy.table import Table\n",
        "from dust_extinction.dust_extinction import CCM89, F99"
      ],
      "execution_count": 0,
      "outputs": []
    },
    {
      "metadata": {
        "id": "58ojjbkxQLer",
        "colab_type": "text"
      },
      "cell_type": "markdown",
      "source": [
        "# Introduction"
      ]
    },
    {
      "metadata": {
        "id": "lkaFXDpKQ4dv",
        "colab_type": "text"
      },
      "cell_type": "markdown",
      "source": [
        "Dust in the interstellar medium (ISM) extinguishes background starlight.  The wavelength dependence of the extinction is such that short-wavelength light is extinguished more than long-wavelength light, and we call this effect *reddening*.\n",
        "\n",
        "If you're new to extinction, here is a brief introduction to the types of quantities involved.\n",
        "The fractional change to the flux of starlight is \n",
        "$$\n",
        "\\frac{dF_\\lambda}{F_\\lambda} = -\\tau_\\lambda\n",
        "$$\n",
        "where $\\tau$ is the optical depth.  This means that resultant flux must be an exponential function of optical depth,\n",
        "$$\n",
        "\\tau_\\lambda = -\\ln\\left(\\frac{F_\\lambda}{F_{\\lambda,0}}\\right).\n",
        "$$\n",
        "\n",
        "We usually changes bases from $e$ to 10,  \n",
        "$$\n",
        "\\tau_\\lambda = -2.303\\log\\left(\\frac{F_\\lambda}{F_{\\lambda,0}}\\right),\n",
        "$$\n",
        "and given how we define magnitudes, it is convenient to define an extinction $A_\\lambda = 1.086 \\,\\tau_\\lambda$ so that\n",
        "$$\n",
        "A_\\lambda = -2.5\\log\\left(\\frac{F_\\lambda}{F_{\\lambda,0}}\\right).\n",
        "$$\n",
        "\n"
      ]
    },
    {
      "metadata": {
        "id": "AuzGOe-LQSC8",
        "colab_type": "text"
      },
      "cell_type": "markdown",
      "source": [
        "# Normal Distribution for Comparison"
      ]
    },
    {
      "metadata": {
        "id": "h-xrIrjzRclB",
        "colab_type": "text"
      },
      "cell_type": "markdown",
      "source": [
        "Sam: P326-style propagation"
      ]
    },
    {
      "metadata": {
        "id": "HBQnI20dQVUA",
        "colab_type": "text"
      },
      "cell_type": "markdown",
      "source": [
        "# Photometric Uncertainty"
      ]
    },
    {
      "metadata": {
        "id": "zsuFqkKBQ8Ow",
        "colab_type": "text"
      },
      "cell_type": "markdown",
      "source": [
        "Aidan: Uncertainty introduced by background SED\n",
        "\n",
        "Sam: Measurement uncertainty"
      ]
    },
    {
      "metadata": {
        "id": "S0hIxvtDQfrC",
        "colab_type": "text"
      },
      "cell_type": "markdown",
      "source": [
        "# Spectral Type Uncertainty"
      ]
    },
    {
      "metadata": {
        "id": "XzeNKg_kRu59",
        "colab_type": "text"
      },
      "cell_type": "markdown",
      "source": [
        "Sam: Uncertainty in intrinsic colors\n",
        "\n",
        "Megan: Uncertainty in assumed spectral type"
      ]
    },
    {
      "metadata": {
        "id": "FQurD4T1Qkxv",
        "colab_type": "text"
      },
      "cell_type": "markdown",
      "source": [
        "# Putting It All Together"
      ]
    },
    {
      "metadata": {
        "id": "N35JO60mSs5D",
        "colab_type": "text"
      },
      "cell_type": "markdown",
      "source": [
        "TBA (to be assigned):  Uncertainty when simultaneously fitting star and dust"
      ]
    }
  ]
}